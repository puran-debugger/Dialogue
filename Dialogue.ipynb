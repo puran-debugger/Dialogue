{
 "cells": [
  {
   "cell_type": "markdown",
   "id": "8fa15243",
   "metadata": {},
   "source": [
    "   [friends-100lines](https://www.youtube.com/watch?v=g7_UWxEmiTs)"
   ]
  },
  {
   "cell_type": "markdown",
   "id": "78ffe187",
   "metadata": {},
   "source": [
    "- Why don't we give this a try\n",
    "    - (friends)"
   ]
  },
  {
   "cell_type": "markdown",
   "id": "b6129299",
   "metadata": {},
   "source": [
    "- That's not the point\n",
    "    - 这不是关键点(friends)"
   ]
  },
  {
   "cell_type": "markdown",
   "id": "28da73c0",
   "metadata": {},
   "source": [
    "- Where were we\n",
    "    - 刚才我们谈/做到哪里了(friends)"
   ]
  },
  {
   "cell_type": "markdown",
   "id": "2a01c4f7",
   "metadata": {},
   "source": [
    "- Well, it matters to me\n",
    "    - 但它对我很重要(friends)"
   ]
  },
  {
   "cell_type": "markdown",
   "id": "142e7061",
   "metadata": {},
   "source": [
    "- It's a metaphore\n",
    "    - 这只是个比喻(friends) 2:19"
   ]
  },
  {
   "cell_type": "markdown",
   "id": "55ad2fa1",
   "metadata": {},
   "source": [
    "- What does that mean?\n",
    "    - (friends)"
   ]
  },
  {
   "cell_type": "markdown",
   "id": "a7d36180",
   "metadata": {},
   "source": [
    "- let's split it (the bill)\n",
    "    - 我们AA吧(friends)"
   ]
  },
  {
   "cell_type": "markdown",
   "id": "5ef00b3a",
   "metadata": {},
   "source": [
    "- Hi guys! Gary, Steven, Gigi, ... I feel you. You are scared, don't know what to do.<br>\n",
    "Couples of hours ago, I was corwarding under a desk. Now I am chaing a robot on the stairs with a 140 pound women on my back.<br>\n",
    "The point is, we are the gang. We get knock down but we can up again. They will never get keep us down.\n",
    "    - (Inside Jobs)"
   ]
  },
  {
   "cell_type": "markdown",
   "id": "7aa53a54",
   "metadata": {},
   "source": [
    "## show tough"
   ]
  },
  {
   "cell_type": "markdown",
   "id": "6f7afb85",
   "metadata": {},
   "source": [
    "-  I won't let here go without a fight!\n",
    "    - 我不会轻易放过她 (friends)"
   ]
  },
  {
   "cell_type": "markdown",
   "id": "c3bbf2f8",
   "metadata": {},
   "source": [
    "- You are out of my league\n",
    "    - 你我不是同类人 "
   ]
  },
  {
   "cell_type": "markdown",
   "id": "9983e279",
   "metadata": {},
   "source": [
    "- My way or the highway\n",
    "   - 听我的或者滚蛋(friends)"
   ]
  },
  {
   "cell_type": "markdown",
   "id": "765b6ae9",
   "metadata": {},
   "source": [
    "- Nothing to see here!\n",
    "    - 这没什么好看的/看什么看(friends)"
   ]
  },
  {
   "cell_type": "code",
   "execution_count": null,
   "id": "14db1e08",
   "metadata": {},
   "outputs": [],
   "source": []
  }
 ],
 "metadata": {
  "hide_input": false,
  "kernelspec": {
   "display_name": "Python 3",
   "language": "python",
   "name": "python3"
  },
  "language_info": {
   "codemirror_mode": {
    "name": "ipython",
    "version": 3
   },
   "file_extension": ".py",
   "mimetype": "text/x-python",
   "name": "python",
   "nbconvert_exporter": "python",
   "pygments_lexer": "ipython3",
   "version": "3.8.8"
  },
  "toc": {
   "base_numbering": 1,
   "nav_menu": {},
   "number_sections": true,
   "sideBar": true,
   "skip_h1_title": false,
   "title_cell": "Table of Contents",
   "title_sidebar": "Contents",
   "toc_cell": false,
   "toc_position": {},
   "toc_section_display": true,
   "toc_window_display": false
  }
 },
 "nbformat": 4,
 "nbformat_minor": 5
}
